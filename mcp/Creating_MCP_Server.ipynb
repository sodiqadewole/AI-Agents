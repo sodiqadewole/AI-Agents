{
 "cells": [
  {
   "cell_type": "markdown",
   "id": "e21b4430",
   "metadata": {},
   "source": [
    "MCP servers standardize the communication between AI Agents and data sources."
   ]
  },
  {
   "cell_type": "code",
   "execution_count": null,
   "id": "c62b9746",
   "metadata": {},
   "outputs": [],
   "source": [
    "import random\n",
    "\n",
    "import requests\n",
    "from mcp.server.fastmcp import FastMCP\n",
    "\n",
    "# Create server\n",
    "mcp = FastMCP(\"Echo Server\")\n",
    "\n",
    "@mcp.tool()\n",
    "def add(a: int, b: int) -> int:\n",
    "    \"\"\"Add two numbers\"\"\"\n",
    "    print(f\"[debug-server] add({a}, {b})\")\n",
    "    return a + b\n",
    "\n",
    "@mcp.tool()\n",
    "def get_secret_word() -> str:\n",
    "    print(\"[debug-server] get_secret_word()\")\n",
    "    return random.choice([\"apple\", \"banana\", \"cherry\"])\n",
    "\n",
    "@mcp.tool()\n",
    "def get_current_weather(city: str) -> str:\n",
    "    print(f\"[debug-server] get_current_weather({city})\")\n",
    "\n",
    "    endpoint = \"https://wttr.in\"\n",
    "    response = requests.get(f\"{endpoint}/{city}\")\n",
    "    return response.text"
   ]
  },
  {
   "cell_type": "markdown",
   "id": "d58914b1",
   "metadata": {},
   "source": []
  }
 ],
 "metadata": {
  "kernelspec": {
   "display_name": "base",
   "language": "python",
   "name": "python3"
  },
  "language_info": {
   "name": "python",
   "version": "3.12.3"
  }
 },
 "nbformat": 4,
 "nbformat_minor": 5
}
